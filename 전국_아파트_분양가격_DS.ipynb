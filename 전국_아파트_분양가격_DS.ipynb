{
  "nbformat": 4,
  "nbformat_minor": 0,
  "metadata": {
    "colab": {
      "name": "전국 아파트 분양가격 DS",
      "provenance": [],
      "authorship_tag": "ABX9TyNRSDbY4TfgV7xWjjM9NNk1",
      "include_colab_link": true
    },
    "kernelspec": {
      "name": "python3",
      "display_name": "Python 3"
    },
    "accelerator": "GPU"
  },
  "cells": [
    {
      "cell_type": "markdown",
      "metadata": {
        "id": "view-in-github",
        "colab_type": "text"
      },
      "source": [
        "<a href=\"https://colab.research.google.com/github/jjlee0625/National-Apartment-Presale-Price-Analysis/blob/master/%EC%A0%84%EA%B5%AD_%EC%95%84%ED%8C%8C%ED%8A%B8_%EB%B6%84%EC%96%91%EA%B0%80%EA%B2%A9_DS.ipynb\" target=\"_parent\"><img src=\"https://colab.research.google.com/assets/colab-badge.svg\" alt=\"Open In Colab\"/></a>"
      ]
    },
    {
      "cell_type": "code",
      "metadata": {
        "id": "2CfdsEw79bIQ",
        "colab_type": "code",
        "colab": {}
      },
      "source": [
        "import pandas as pd \n",
        "import numpy as np \n",
        "import re \n",
        "from plotnine import *"
      ],
      "execution_count": null,
      "outputs": []
    },
    {
      "cell_type": "code",
      "metadata": {
        "id": "6KhOzKdKALdi",
        "colab_type": "code",
        "colab": {}
      },
      "source": [
        "df = pd.read_csv('/content/주택도시보증공사 전국 평균 분양가격(2020년 3월).csv')"
      ],
      "execution_count": null,
      "outputs": []
    },
    {
      "cell_type": "code",
      "metadata": {
        "id": "fItNT6OvA17C",
        "colab_type": "code",
        "colab": {
          "base_uri": "https://localhost:8080/",
          "height": 35
        },
        "outputId": "bea90bc5-757d-49d4-af8e-2817b2312cc9"
      },
      "source": [
        "df.shape"
      ],
      "execution_count": null,
      "outputs": [
        {
          "output_type": "execute_result",
          "data": {
            "text/plain": [
              "(4590, 5)"
            ]
          },
          "metadata": {
            "tags": []
          },
          "execution_count": 9
        }
      ]
    },
    {
      "cell_type": "code",
      "metadata": {
        "id": "lOREKpAeA4vX",
        "colab_type": "code",
        "colab": {
          "base_uri": "https://localhost:8080/",
          "height": 204
        },
        "outputId": "418f4645-5a0d-4428-a56b-403cba5ce985"
      },
      "source": [
        "df.head()"
      ],
      "execution_count": null,
      "outputs": [
        {
          "output_type": "execute_result",
          "data": {
            "text/html": [
              "<div>\n",
              "<style scoped>\n",
              "    .dataframe tbody tr th:only-of-type {\n",
              "        vertical-align: middle;\n",
              "    }\n",
              "\n",
              "    .dataframe tbody tr th {\n",
              "        vertical-align: top;\n",
              "    }\n",
              "\n",
              "    .dataframe thead th {\n",
              "        text-align: right;\n",
              "    }\n",
              "</style>\n",
              "<table border=\"1\" class=\"dataframe\">\n",
              "  <thead>\n",
              "    <tr style=\"text-align: right;\">\n",
              "      <th></th>\n",
              "      <th>지역명</th>\n",
              "      <th>규모구분</th>\n",
              "      <th>연도</th>\n",
              "      <th>월</th>\n",
              "      <th>분양가격(㎡)</th>\n",
              "    </tr>\n",
              "  </thead>\n",
              "  <tbody>\n",
              "    <tr>\n",
              "      <th>0</th>\n",
              "      <td>서울</td>\n",
              "      <td>전체</td>\n",
              "      <td>2015</td>\n",
              "      <td>10</td>\n",
              "      <td>5841</td>\n",
              "    </tr>\n",
              "    <tr>\n",
              "      <th>1</th>\n",
              "      <td>서울</td>\n",
              "      <td>전용면적 60㎡이하</td>\n",
              "      <td>2015</td>\n",
              "      <td>10</td>\n",
              "      <td>5652</td>\n",
              "    </tr>\n",
              "    <tr>\n",
              "      <th>2</th>\n",
              "      <td>서울</td>\n",
              "      <td>전용면적 60㎡초과 85㎡이하</td>\n",
              "      <td>2015</td>\n",
              "      <td>10</td>\n",
              "      <td>5882</td>\n",
              "    </tr>\n",
              "    <tr>\n",
              "      <th>3</th>\n",
              "      <td>서울</td>\n",
              "      <td>전용면적 85㎡초과 102㎡이하</td>\n",
              "      <td>2015</td>\n",
              "      <td>10</td>\n",
              "      <td>5721</td>\n",
              "    </tr>\n",
              "    <tr>\n",
              "      <th>4</th>\n",
              "      <td>서울</td>\n",
              "      <td>전용면적 102㎡초과</td>\n",
              "      <td>2015</td>\n",
              "      <td>10</td>\n",
              "      <td>5879</td>\n",
              "    </tr>\n",
              "  </tbody>\n",
              "</table>\n",
              "</div>"
            ],
            "text/plain": [
              "  지역명               규모구분    연도   월 분양가격(㎡)\n",
              "0  서울                 전체  2015  10    5841\n",
              "1  서울         전용면적 60㎡이하  2015  10    5652\n",
              "2  서울   전용면적 60㎡초과 85㎡이하  2015  10    5882\n",
              "3  서울  전용면적 85㎡초과 102㎡이하  2015  10    5721\n",
              "4  서울        전용면적 102㎡초과  2015  10    5879"
            ]
          },
          "metadata": {
            "tags": []
          },
          "execution_count": 11
        }
      ]
    },
    {
      "cell_type": "code",
      "metadata": {
        "id": "6_87RigBA-Eg",
        "colab_type": "code",
        "colab": {
          "base_uri": "https://localhost:8080/",
          "height": 204
        },
        "outputId": "859dfff9-ec7d-40f8-fed0-ed8e1507d276"
      },
      "source": [
        "df.tail()"
      ],
      "execution_count": null,
      "outputs": [
        {
          "output_type": "execute_result",
          "data": {
            "text/html": [
              "<div>\n",
              "<style scoped>\n",
              "    .dataframe tbody tr th:only-of-type {\n",
              "        vertical-align: middle;\n",
              "    }\n",
              "\n",
              "    .dataframe tbody tr th {\n",
              "        vertical-align: top;\n",
              "    }\n",
              "\n",
              "    .dataframe thead th {\n",
              "        text-align: right;\n",
              "    }\n",
              "</style>\n",
              "<table border=\"1\" class=\"dataframe\">\n",
              "  <thead>\n",
              "    <tr style=\"text-align: right;\">\n",
              "      <th></th>\n",
              "      <th>지역명</th>\n",
              "      <th>규모구분</th>\n",
              "      <th>연도</th>\n",
              "      <th>월</th>\n",
              "      <th>분양가격(㎡)</th>\n",
              "    </tr>\n",
              "  </thead>\n",
              "  <tbody>\n",
              "    <tr>\n",
              "      <th>4585</th>\n",
              "      <td>제주</td>\n",
              "      <td>전체</td>\n",
              "      <td>2020</td>\n",
              "      <td>3</td>\n",
              "      <td>3955</td>\n",
              "    </tr>\n",
              "    <tr>\n",
              "      <th>4586</th>\n",
              "      <td>제주</td>\n",
              "      <td>전용면적 60㎡이하</td>\n",
              "      <td>2020</td>\n",
              "      <td>3</td>\n",
              "      <td>4039</td>\n",
              "    </tr>\n",
              "    <tr>\n",
              "      <th>4587</th>\n",
              "      <td>제주</td>\n",
              "      <td>전용면적 60㎡초과 85㎡이하</td>\n",
              "      <td>2020</td>\n",
              "      <td>3</td>\n",
              "      <td>3962</td>\n",
              "    </tr>\n",
              "    <tr>\n",
              "      <th>4588</th>\n",
              "      <td>제주</td>\n",
              "      <td>전용면적 85㎡초과 102㎡이하</td>\n",
              "      <td>2020</td>\n",
              "      <td>3</td>\n",
              "      <td>NaN</td>\n",
              "    </tr>\n",
              "    <tr>\n",
              "      <th>4589</th>\n",
              "      <td>제주</td>\n",
              "      <td>전용면적 102㎡초과</td>\n",
              "      <td>2020</td>\n",
              "      <td>3</td>\n",
              "      <td>3601</td>\n",
              "    </tr>\n",
              "  </tbody>\n",
              "</table>\n",
              "</div>"
            ],
            "text/plain": [
              "     지역명               규모구분    연도  월 분양가격(㎡)\n",
              "4585  제주                 전체  2020  3    3955\n",
              "4586  제주         전용면적 60㎡이하  2020  3    4039\n",
              "4587  제주   전용면적 60㎡초과 85㎡이하  2020  3    3962\n",
              "4588  제주  전용면적 85㎡초과 102㎡이하  2020  3     NaN\n",
              "4589  제주        전용면적 102㎡초과  2020  3    3601"
            ]
          },
          "metadata": {
            "tags": []
          },
          "execution_count": 12
        }
      ]
    },
    {
      "cell_type": "code",
      "metadata": {
        "id": "SvvmetUpA_do",
        "colab_type": "code",
        "colab": {
          "base_uri": "https://localhost:8080/",
          "height": 125
        },
        "outputId": "394d891a-af77-43ad-cda6-54f556cbef26"
      },
      "source": [
        "df.isnull().sum()"
      ],
      "execution_count": null,
      "outputs": [
        {
          "output_type": "execute_result",
          "data": {
            "text/plain": [
              "지역명          0\n",
              "규모구분         0\n",
              "연도           0\n",
              "월            0\n",
              "분양가격(㎡)    305\n",
              "dtype: int64"
            ]
          },
          "metadata": {
            "tags": []
          },
          "execution_count": 13
        }
      ]
    },
    {
      "cell_type": "code",
      "metadata": {
        "id": "jY4saW5XBHRo",
        "colab_type": "code",
        "colab": {
          "base_uri": "https://localhost:8080/",
          "height": 1000
        },
        "outputId": "5cade653-a063-4e73-fb96-4935d7855bdf"
      },
      "source": [
        "import missingno as msno \n",
        "msno.matrix(df, figsize=(18,6))"
      ],
      "execution_count": null,
      "outputs": [
        {
          "output_type": "execute_result",
          "data": {
            "text/plain": [
              "<matplotlib.axes._subplots.AxesSubplot at 0x7f69f2fd9f60>"
            ]
          },
          "metadata": {
            "tags": []
          },
          "execution_count": 14
        },
        {
          "output_type": "stream",
          "text": [
            "/usr/local/lib/python3.6/dist-packages/matplotlib/backends/backend_agg.py:214: RuntimeWarning: Glyph 51648 missing from current font.\n",
            "  font.set_text(s, 0.0, flags=flags)\n",
            "/usr/local/lib/python3.6/dist-packages/matplotlib/backends/backend_agg.py:214: RuntimeWarning: Glyph 50669 missing from current font.\n",
            "  font.set_text(s, 0.0, flags=flags)\n",
            "/usr/local/lib/python3.6/dist-packages/matplotlib/backends/backend_agg.py:214: RuntimeWarning: Glyph 47749 missing from current font.\n",
            "  font.set_text(s, 0.0, flags=flags)\n",
            "/usr/local/lib/python3.6/dist-packages/matplotlib/backends/backend_agg.py:214: RuntimeWarning: Glyph 44508 missing from current font.\n",
            "  font.set_text(s, 0.0, flags=flags)\n",
            "/usr/local/lib/python3.6/dist-packages/matplotlib/backends/backend_agg.py:214: RuntimeWarning: Glyph 47784 missing from current font.\n",
            "  font.set_text(s, 0.0, flags=flags)\n",
            "/usr/local/lib/python3.6/dist-packages/matplotlib/backends/backend_agg.py:214: RuntimeWarning: Glyph 44396 missing from current font.\n",
            "  font.set_text(s, 0.0, flags=flags)\n",
            "/usr/local/lib/python3.6/dist-packages/matplotlib/backends/backend_agg.py:214: RuntimeWarning: Glyph 48516 missing from current font.\n",
            "  font.set_text(s, 0.0, flags=flags)\n",
            "/usr/local/lib/python3.6/dist-packages/matplotlib/backends/backend_agg.py:214: RuntimeWarning: Glyph 50672 missing from current font.\n",
            "  font.set_text(s, 0.0, flags=flags)\n",
            "/usr/local/lib/python3.6/dist-packages/matplotlib/backends/backend_agg.py:214: RuntimeWarning: Glyph 46020 missing from current font.\n",
            "  font.set_text(s, 0.0, flags=flags)\n",
            "/usr/local/lib/python3.6/dist-packages/matplotlib/backends/backend_agg.py:214: RuntimeWarning: Glyph 50900 missing from current font.\n",
            "  font.set_text(s, 0.0, flags=flags)\n",
            "/usr/local/lib/python3.6/dist-packages/matplotlib/backends/backend_agg.py:214: RuntimeWarning: Glyph 50577 missing from current font.\n",
            "  font.set_text(s, 0.0, flags=flags)\n",
            "/usr/local/lib/python3.6/dist-packages/matplotlib/backends/backend_agg.py:214: RuntimeWarning: Glyph 44032 missing from current font.\n",
            "  font.set_text(s, 0.0, flags=flags)\n",
            "/usr/local/lib/python3.6/dist-packages/matplotlib/backends/backend_agg.py:214: RuntimeWarning: Glyph 44201 missing from current font.\n",
            "  font.set_text(s, 0.0, flags=flags)\n",
            "/usr/local/lib/python3.6/dist-packages/matplotlib/backends/backend_agg.py:214: RuntimeWarning: Glyph 13217 missing from current font.\n",
            "  font.set_text(s, 0.0, flags=flags)\n",
            "/usr/local/lib/python3.6/dist-packages/matplotlib/backends/backend_agg.py:183: RuntimeWarning: Glyph 51648 missing from current font.\n",
            "  font.set_text(s, 0, flags=flags)\n",
            "/usr/local/lib/python3.6/dist-packages/matplotlib/backends/backend_agg.py:183: RuntimeWarning: Glyph 50669 missing from current font.\n",
            "  font.set_text(s, 0, flags=flags)\n",
            "/usr/local/lib/python3.6/dist-packages/matplotlib/backends/backend_agg.py:183: RuntimeWarning: Glyph 47749 missing from current font.\n",
            "  font.set_text(s, 0, flags=flags)\n",
            "/usr/local/lib/python3.6/dist-packages/matplotlib/backends/backend_agg.py:183: RuntimeWarning: Glyph 44508 missing from current font.\n",
            "  font.set_text(s, 0, flags=flags)\n",
            "/usr/local/lib/python3.6/dist-packages/matplotlib/backends/backend_agg.py:183: RuntimeWarning: Glyph 47784 missing from current font.\n",
            "  font.set_text(s, 0, flags=flags)\n",
            "/usr/local/lib/python3.6/dist-packages/matplotlib/backends/backend_agg.py:183: RuntimeWarning: Glyph 44396 missing from current font.\n",
            "  font.set_text(s, 0, flags=flags)\n",
            "/usr/local/lib/python3.6/dist-packages/matplotlib/backends/backend_agg.py:183: RuntimeWarning: Glyph 48516 missing from current font.\n",
            "  font.set_text(s, 0, flags=flags)\n",
            "/usr/local/lib/python3.6/dist-packages/matplotlib/backends/backend_agg.py:183: RuntimeWarning: Glyph 50672 missing from current font.\n",
            "  font.set_text(s, 0, flags=flags)\n",
            "/usr/local/lib/python3.6/dist-packages/matplotlib/backends/backend_agg.py:183: RuntimeWarning: Glyph 46020 missing from current font.\n",
            "  font.set_text(s, 0, flags=flags)\n",
            "/usr/local/lib/python3.6/dist-packages/matplotlib/backends/backend_agg.py:183: RuntimeWarning: Glyph 50900 missing from current font.\n",
            "  font.set_text(s, 0, flags=flags)\n",
            "/usr/local/lib/python3.6/dist-packages/matplotlib/backends/backend_agg.py:183: RuntimeWarning: Glyph 50577 missing from current font.\n",
            "  font.set_text(s, 0, flags=flags)\n",
            "/usr/local/lib/python3.6/dist-packages/matplotlib/backends/backend_agg.py:183: RuntimeWarning: Glyph 44032 missing from current font.\n",
            "  font.set_text(s, 0, flags=flags)\n",
            "/usr/local/lib/python3.6/dist-packages/matplotlib/backends/backend_agg.py:183: RuntimeWarning: Glyph 44201 missing from current font.\n",
            "  font.set_text(s, 0, flags=flags)\n",
            "/usr/local/lib/python3.6/dist-packages/matplotlib/backends/backend_agg.py:183: RuntimeWarning: Glyph 13217 missing from current font.\n",
            "  font.set_text(s, 0, flags=flags)\n"
          ],
          "name": "stderr"
        },
        {
          "output_type": "display_data",
          "data": {
            "image/png": "[encoded data removed]",
            "text/plain": [
              "<Figure size 1296x432 with 2 Axes>"
            ]
          },
          "metadata": {
            "tags": [],
            "needs_background": "light"
          }
        }
      ]
    },
    {
      "cell_type": "code",
      "metadata": {
        "id": "Sa2IXOURBOaw",
        "colab_type": "code",
        "colab": {}
      },
      "source": [
        "df['연도'] = df['연도'].astype(str)\n",
        "df['월'] = df['월'].astype(str)"
      ],
      "execution_count": null,
      "outputs": []
    },
    {
      "cell_type": "code",
      "metadata": {
        "id": "jUMX1_s0BTfJ",
        "colab_type": "code",
        "colab": {}
      },
      "source": [
        "df_price = df['분양가격(㎡)']"
      ],
      "execution_count": null,
      "outputs": []
    },
    {
      "cell_type": "code",
      "metadata": {
        "id": "wsJGS7yNBYYh",
        "colab_type": "code",
        "colab": {}
      },
      "source": [
        "df['분양가격'] = pd.to_numeric(df_price, errors='coerce') \n",
        "df['평당분양가격'] = df['분양가격'] * 3.3"
      ],
      "execution_count": null,
      "outputs": []
    },
    {
      "cell_type": "code",
      "metadata": {
        "id": "VFRNl-eDBgoh",
        "colab_type": "code",
        "colab": {
          "base_uri": "https://localhost:8080/",
          "height": 269
        },
        "outputId": "d9fcf931-0e1e-4fc8-fd40-9abf6e51d7cd"
      },
      "source": [
        "df.info()"
      ],
      "execution_count": null,
      "outputs": [
        {
          "output_type": "stream",
          "text": [
            "<class 'pandas.core.frame.DataFrame'>\n",
            "RangeIndex: 4590 entries, 0 to 4589\n",
            "Data columns (total 7 columns):\n",
            " #   Column   Non-Null Count  Dtype  \n",
            "---  ------   --------------  -----  \n",
            " 0   지역명      4590 non-null   object \n",
            " 1   규모구분     4590 non-null   object \n",
            " 2   연도       4590 non-null   object \n",
            " 3   월        4590 non-null   object \n",
            " 4   분양가격(㎡)  4285 non-null   object \n",
            " 5   분양가격     4184 non-null   float64\n",
            " 6   평당분양가격   4184 non-null   float64\n",
            "dtypes: float64(2), object(5)\n",
            "memory usage: 251.1+ KB\n"
          ],
          "name": "stdout"
        }
      ]
    },
    {
      "cell_type": "code",
      "metadata": {
        "id": "SSrwMtL1Bp8n",
        "colab_type": "code",
        "colab": {
          "base_uri": "https://localhost:8080/",
          "height": 297
        },
        "outputId": "4b150bc7-9b9f-4f70-b386-9e7dd80deaaa"
      },
      "source": [
        "df.describe()"
      ],
      "execution_count": null,
      "outputs": [
        {
          "output_type": "execute_result",
          "data": {
            "text/html": [
              "<div>\n",
              "<style scoped>\n",
              "    .dataframe tbody tr th:only-of-type {\n",
              "        vertical-align: middle;\n",
              "    }\n",
              "\n",
              "    .dataframe tbody tr th {\n",
              "        vertical-align: top;\n",
              "    }\n",
              "\n",
              "    .dataframe thead th {\n",
              "        text-align: right;\n",
              "    }\n",
              "</style>\n",
              "<table border=\"1\" class=\"dataframe\">\n",
              "  <thead>\n",
              "    <tr style=\"text-align: right;\">\n",
              "      <th></th>\n",
              "      <th>분양가격</th>\n",
              "      <th>평당분양가격</th>\n",
              "    </tr>\n",
              "  </thead>\n",
              "  <tbody>\n",
              "    <tr>\n",
              "      <th>count</th>\n",
              "      <td>4184.000000</td>\n",
              "      <td>4184.000000</td>\n",
              "    </tr>\n",
              "    <tr>\n",
              "      <th>mean</th>\n",
              "      <td>3271.654876</td>\n",
              "      <td>10796.461090</td>\n",
              "    </tr>\n",
              "    <tr>\n",
              "      <th>std</th>\n",
              "      <td>1302.987924</td>\n",
              "      <td>4299.860149</td>\n",
              "    </tr>\n",
              "    <tr>\n",
              "      <th>min</th>\n",
              "      <td>1868.000000</td>\n",
              "      <td>6164.400000</td>\n",
              "    </tr>\n",
              "    <tr>\n",
              "      <th>25%</th>\n",
              "      <td>2457.500000</td>\n",
              "      <td>8109.750000</td>\n",
              "    </tr>\n",
              "    <tr>\n",
              "      <th>50%</th>\n",
              "      <td>2894.000000</td>\n",
              "      <td>9550.200000</td>\n",
              "    </tr>\n",
              "    <tr>\n",
              "      <th>75%</th>\n",
              "      <td>3601.250000</td>\n",
              "      <td>11884.125000</td>\n",
              "    </tr>\n",
              "    <tr>\n",
              "      <th>max</th>\n",
              "      <td>13835.000000</td>\n",
              "      <td>45655.500000</td>\n",
              "    </tr>\n",
              "  </tbody>\n",
              "</table>\n",
              "</div>"
            ],
            "text/plain": [
              "               분양가격        평당분양가격\n",
              "count   4184.000000   4184.000000\n",
              "mean    3271.654876  10796.461090\n",
              "std     1302.987924   4299.860149\n",
              "min     1868.000000   6164.400000\n",
              "25%     2457.500000   8109.750000\n",
              "50%     2894.000000   9550.200000\n",
              "75%     3601.250000  11884.125000\n",
              "max    13835.000000  45655.500000"
            ]
          },
          "metadata": {
            "tags": []
          },
          "execution_count": 19
        }
      ]
    },
    {
      "cell_type": "code",
      "metadata": {
        "id": "FFpwhQQtBvFv",
        "colab_type": "code",
        "colab": {
          "base_uri": "https://localhost:8080/",
          "height": 173
        },
        "outputId": "d6ac1960-6072-43b0-988e-6747172e2895"
      },
      "source": [
        "df.describe(include=[np.object])"
      ],
      "execution_count": null,
      "outputs": [
        {
          "output_type": "execute_result",
          "data": {
            "text/html": [
              "<div>\n",
              "<style scoped>\n",
              "    .dataframe tbody tr th:only-of-type {\n",
              "        vertical-align: middle;\n",
              "    }\n",
              "\n",
              "    .dataframe tbody tr th {\n",
              "        vertical-align: top;\n",
              "    }\n",
              "\n",
              "    .dataframe thead th {\n",
              "        text-align: right;\n",
              "    }\n",
              "</style>\n",
              "<table border=\"1\" class=\"dataframe\">\n",
              "  <thead>\n",
              "    <tr style=\"text-align: right;\">\n",
              "      <th></th>\n",
              "      <th>지역명</th>\n",
              "      <th>규모구분</th>\n",
              "      <th>연도</th>\n",
              "      <th>월</th>\n",
              "      <th>분양가격(㎡)</th>\n",
              "    </tr>\n",
              "  </thead>\n",
              "  <tbody>\n",
              "    <tr>\n",
              "      <th>count</th>\n",
              "      <td>4590</td>\n",
              "      <td>4590</td>\n",
              "      <td>4590</td>\n",
              "      <td>4590</td>\n",
              "      <td>4285</td>\n",
              "    </tr>\n",
              "    <tr>\n",
              "      <th>unique</th>\n",
              "      <td>17</td>\n",
              "      <td>5</td>\n",
              "      <td>6</td>\n",
              "      <td>12</td>\n",
              "      <td>1813</td>\n",
              "    </tr>\n",
              "    <tr>\n",
              "      <th>top</th>\n",
              "      <td>인천</td>\n",
              "      <td>전체</td>\n",
              "      <td>2016</td>\n",
              "      <td>1</td>\n",
              "      <td>3395</td>\n",
              "    </tr>\n",
              "    <tr>\n",
              "      <th>freq</th>\n",
              "      <td>270</td>\n",
              "      <td>918</td>\n",
              "      <td>1020</td>\n",
              "      <td>425</td>\n",
              "      <td>18</td>\n",
              "    </tr>\n",
              "  </tbody>\n",
              "</table>\n",
              "</div>"
            ],
            "text/plain": [
              "         지역명  규모구분    연도     월 분양가격(㎡)\n",
              "count   4590  4590  4590  4590    4285\n",
              "unique    17     5     6    12    1813\n",
              "top       인천    전체  2016     1    3395\n",
              "freq     270   918  1020   425      18"
            ]
          },
          "metadata": {
            "tags": []
          },
          "execution_count": 20
        }
      ]
    },
    {
      "cell_type": "code",
      "metadata": {
        "id": "6hnBN3CMByyX",
        "colab_type": "code",
        "colab": {
          "base_uri": "https://localhost:8080/",
          "height": 35
        },
        "outputId": "4d649d30-4009-420c-86e7-db82dab5a2e5"
      },
      "source": [
        "df_2018 = df.loc[df['연도'] == '2018']\n",
        "df_2018.shape"
      ],
      "execution_count": null,
      "outputs": [
        {
          "output_type": "execute_result",
          "data": {
            "text/plain": [
              "(1020, 7)"
            ]
          },
          "metadata": {
            "tags": []
          },
          "execution_count": 21
        }
      ]
    },
    {
      "cell_type": "code",
      "metadata": {
        "id": "UcEyjehjB9gH",
        "colab_type": "code",
        "colab": {
          "base_uri": "https://localhost:8080/",
          "height": 125
        },
        "outputId": "d35092c8-d415-4779-824e-2d5414009157"
      },
      "source": [
        "df['규모구분'].value_counts()"
      ],
      "execution_count": null,
      "outputs": [
        {
          "output_type": "execute_result",
          "data": {
            "text/plain": [
              "전체                   918\n",
              "전용면적 60㎡초과 85㎡이하     918\n",
              "전용면적 85㎡초과 102㎡이하    918\n",
              "전용면적 102㎡초과          918\n",
              "전용면적 60㎡이하           918\n",
              "Name: 규모구분, dtype: int64"
            ]
          },
          "metadata": {
            "tags": []
          },
          "execution_count": 22
        }
      ]
    },
    {
      "cell_type": "code",
      "metadata": {
        "id": "504M5FbnCAX_",
        "colab_type": "code",
        "colab": {
          "base_uri": "https://localhost:8080/",
          "height": 545
        },
        "outputId": "c9549262-e25c-4a41-95a6-38ab13f76a47"
      },
      "source": [
        "pd.options.display.float_format = '{:,.0f}'.format \n",
        "df.groupby(df.연도).describe().T"
      ],
      "execution_count": null,
      "outputs": [
        {
          "output_type": "execute_result",
          "data": {
            "text/html": [
              "<div>\n",
              "<style scoped>\n",
              "    .dataframe tbody tr th:only-of-type {\n",
              "        vertical-align: middle;\n",
              "    }\n",
              "\n",
              "    .dataframe tbody tr th {\n",
              "        vertical-align: top;\n",
              "    }\n",
              "\n",
              "    .dataframe thead th {\n",
              "        text-align: right;\n",
              "    }\n",
              "</style>\n",
              "<table border=\"1\" class=\"dataframe\">\n",
              "  <thead>\n",
              "    <tr style=\"text-align: right;\">\n",
              "      <th></th>\n",
              "      <th>연도</th>\n",
              "      <th>2015</th>\n",
              "      <th>2016</th>\n",
              "      <th>2017</th>\n",
              "      <th>2018</th>\n",
              "      <th>2019</th>\n",
              "      <th>2020</th>\n",
              "    </tr>\n",
              "  </thead>\n",
              "  <tbody>\n",
              "    <tr>\n",
              "      <th rowspan=\"8\" valign=\"top\">분양가격</th>\n",
              "      <th>count</th>\n",
              "      <td>243</td>\n",
              "      <td>984</td>\n",
              "      <td>899</td>\n",
              "      <td>919</td>\n",
              "      <td>912</td>\n",
              "      <td>227</td>\n",
              "    </tr>\n",
              "    <tr>\n",
              "      <th>mean</th>\n",
              "      <td>2,789</td>\n",
              "      <td>2,934</td>\n",
              "      <td>3,140</td>\n",
              "      <td>3,327</td>\n",
              "      <td>3,693</td>\n",
              "      <td>3,856</td>\n",
              "    </tr>\n",
              "    <tr>\n",
              "      <th>std</th>\n",
              "      <td>977</td>\n",
              "      <td>1,071</td>\n",
              "      <td>1,108</td>\n",
              "      <td>1,186</td>\n",
              "      <td>1,563</td>\n",
              "      <td>1,755</td>\n",
              "    </tr>\n",
              "    <tr>\n",
              "      <th>min</th>\n",
              "      <td>1,868</td>\n",
              "      <td>1,900</td>\n",
              "      <td>1,976</td>\n",
              "      <td>2,076</td>\n",
              "      <td>2,124</td>\n",
              "      <td>2,297</td>\n",
              "    </tr>\n",
              "    <tr>\n",
              "      <th>25%</th>\n",
              "      <td>2,225</td>\n",
              "      <td>2,282</td>\n",
              "      <td>2,365</td>\n",
              "      <td>2,525</td>\n",
              "      <td>2,636</td>\n",
              "      <td>2,667</td>\n",
              "    </tr>\n",
              "    <tr>\n",
              "      <th>50%</th>\n",
              "      <td>2,516</td>\n",
              "      <td>2,672</td>\n",
              "      <td>2,849</td>\n",
              "      <td>2,952</td>\n",
              "      <td>3,395</td>\n",
              "      <td>3,534</td>\n",
              "    </tr>\n",
              "    <tr>\n",
              "      <th>75%</th>\n",
              "      <td>3,026</td>\n",
              "      <td>3,148</td>\n",
              "      <td>3,456</td>\n",
              "      <td>3,698</td>\n",
              "      <td>4,066</td>\n",
              "      <td>4,276</td>\n",
              "    </tr>\n",
              "    <tr>\n",
              "      <th>max</th>\n",
              "      <td>7,092</td>\n",
              "      <td>8,096</td>\n",
              "      <td>7,887</td>\n",
              "      <td>8,098</td>\n",
              "      <td>12,728</td>\n",
              "      <td>13,835</td>\n",
              "    </tr>\n",
              "    <tr>\n",
              "      <th rowspan=\"8\" valign=\"top\">평당분양가격</th>\n",
              "      <th>count</th>\n",
              "      <td>243</td>\n",
              "      <td>984</td>\n",
              "      <td>899</td>\n",
              "      <td>919</td>\n",
              "      <td>912</td>\n",
              "      <td>227</td>\n",
              "    </tr>\n",
              "    <tr>\n",
              "      <th>mean</th>\n",
              "      <td>9,203</td>\n",
              "      <td>9,683</td>\n",
              "      <td>10,360</td>\n",
              "      <td>10,979</td>\n",
              "      <td>12,188</td>\n",
              "      <td>12,725</td>\n",
              "    </tr>\n",
              "    <tr>\n",
              "      <th>std</th>\n",
              "      <td>3,224</td>\n",
              "      <td>3,536</td>\n",
              "      <td>3,655</td>\n",
              "      <td>3,914</td>\n",
              "      <td>5,159</td>\n",
              "      <td>5,792</td>\n",
              "    </tr>\n",
              "    <tr>\n",
              "      <th>min</th>\n",
              "      <td>6,164</td>\n",
              "      <td>6,270</td>\n",
              "      <td>6,521</td>\n",
              "      <td>6,851</td>\n",
              "      <td>7,009</td>\n",
              "      <td>7,580</td>\n",
              "    </tr>\n",
              "    <tr>\n",
              "      <th>25%</th>\n",
              "      <td>7,342</td>\n",
              "      <td>7,531</td>\n",
              "      <td>7,804</td>\n",
              "      <td>8,332</td>\n",
              "      <td>8,697</td>\n",
              "      <td>8,801</td>\n",
              "    </tr>\n",
              "    <tr>\n",
              "      <th>50%</th>\n",
              "      <td>8,303</td>\n",
              "      <td>8,818</td>\n",
              "      <td>9,402</td>\n",
              "      <td>9,742</td>\n",
              "      <td>11,204</td>\n",
              "      <td>11,662</td>\n",
              "    </tr>\n",
              "    <tr>\n",
              "      <th>75%</th>\n",
              "      <td>9,984</td>\n",
              "      <td>10,390</td>\n",
              "      <td>11,405</td>\n",
              "      <td>12,203</td>\n",
              "      <td>13,419</td>\n",
              "      <td>14,109</td>\n",
              "    </tr>\n",
              "    <tr>\n",
              "      <th>max</th>\n",
              "      <td>23,404</td>\n",
              "      <td>26,717</td>\n",
              "      <td>26,027</td>\n",
              "      <td>26,723</td>\n",
              "      <td>42,002</td>\n",
              "      <td>45,656</td>\n",
              "    </tr>\n",
              "  </tbody>\n",
              "</table>\n",
              "</div>"
            ],
            "text/plain": [
              "연도             2015   2016   2017   2018   2019   2020\n",
              "분양가격   count    243    984    899    919    912    227\n",
              "       mean   2,789  2,934  3,140  3,327  3,693  3,856\n",
              "       std      977  1,071  1,108  1,186  1,563  1,755\n",
              "       min    1,868  1,900  1,976  2,076  2,124  2,297\n",
              "       25%    2,225  2,282  2,365  2,525  2,636  2,667\n",
              "       50%    2,516  2,672  2,849  2,952  3,395  3,534\n",
              "       75%    3,026  3,148  3,456  3,698  4,066  4,276\n",
              "       max    7,092  8,096  7,887  8,098 12,728 13,835\n",
              "평당분양가격 count    243    984    899    919    912    227\n",
              "       mean   9,203  9,683 10,360 10,979 12,188 12,725\n",
              "       std    3,224  3,536  3,655  3,914  5,159  5,792\n",
              "       min    6,164  6,270  6,521  6,851  7,009  7,580\n",
              "       25%    7,342  7,531  7,804  8,332  8,697  8,801\n",
              "       50%    8,303  8,818  9,402  9,742 11,204 11,662\n",
              "       75%    9,984 10,390 11,405 12,203 13,419 14,109\n",
              "       max   23,404 26,717 26,027 26,723 42,002 45,656"
            ]
          },
          "metadata": {
            "tags": []
          },
          "execution_count": 23
        }
      ]
    },
    {
      "cell_type": "code",
      "metadata": {
        "id": "uDDlRZ95CMd_",
        "colab_type": "code",
        "colab": {
          "base_uri": "https://localhost:8080/",
          "height": 235
        },
        "outputId": "6e7406a2-ec30-44e9-a0d4-f1615e61e339"
      },
      "source": [
        "df.pivot_table('평당분양가격', '규모구분', '연도')"
      ],
      "execution_count": null,
      "outputs": [
        {
          "output_type": "execute_result",
          "data": {
            "text/html": [
              "<div>\n",
              "<style scoped>\n",
              "    .dataframe tbody tr th:only-of-type {\n",
              "        vertical-align: middle;\n",
              "    }\n",
              "\n",
              "    .dataframe tbody tr th {\n",
              "        vertical-align: top;\n",
              "    }\n",
              "\n",
              "    .dataframe thead th {\n",
              "        text-align: right;\n",
              "    }\n",
              "</style>\n",
              "<table border=\"1\" class=\"dataframe\">\n",
              "  <thead>\n",
              "    <tr style=\"text-align: right;\">\n",
              "      <th>연도</th>\n",
              "      <th>2015</th>\n",
              "      <th>2016</th>\n",
              "      <th>2017</th>\n",
              "      <th>2018</th>\n",
              "      <th>2019</th>\n",
              "      <th>2020</th>\n",
              "    </tr>\n",
              "    <tr>\n",
              "      <th>규모구분</th>\n",
              "      <th></th>\n",
              "      <th></th>\n",
              "      <th></th>\n",
              "      <th></th>\n",
              "      <th></th>\n",
              "      <th></th>\n",
              "    </tr>\n",
              "  </thead>\n",
              "  <tbody>\n",
              "    <tr>\n",
              "      <th>전용면적 102㎡초과</th>\n",
              "      <td>9,837</td>\n",
              "      <td>10,389</td>\n",
              "      <td>11,334</td>\n",
              "      <td>11,446</td>\n",
              "      <td>13,332</td>\n",
              "      <td>13,850</td>\n",
              "    </tr>\n",
              "    <tr>\n",
              "      <th>전용면적 60㎡이하</th>\n",
              "      <td>8,952</td>\n",
              "      <td>9,399</td>\n",
              "      <td>10,246</td>\n",
              "      <td>10,844</td>\n",
              "      <td>11,507</td>\n",
              "      <td>11,967</td>\n",
              "    </tr>\n",
              "    <tr>\n",
              "      <th>전용면적 60㎡초과 85㎡이하</th>\n",
              "      <td>8,892</td>\n",
              "      <td>9,296</td>\n",
              "      <td>9,825</td>\n",
              "      <td>10,651</td>\n",
              "      <td>11,677</td>\n",
              "      <td>11,857</td>\n",
              "    </tr>\n",
              "    <tr>\n",
              "      <th>전용면적 85㎡초과 102㎡이하</th>\n",
              "      <td>9,519</td>\n",
              "      <td>10,122</td>\n",
              "      <td>10,540</td>\n",
              "      <td>11,442</td>\n",
              "      <td>12,981</td>\n",
              "      <td>14,975</td>\n",
              "    </tr>\n",
              "    <tr>\n",
              "      <th>전체</th>\n",
              "      <td>8,893</td>\n",
              "      <td>9,293</td>\n",
              "      <td>9,901</td>\n",
              "      <td>10,676</td>\n",
              "      <td>11,603</td>\n",
              "      <td>11,879</td>\n",
              "    </tr>\n",
              "  </tbody>\n",
              "</table>\n",
              "</div>"
            ],
            "text/plain": [
              "연도                 2015   2016   2017   2018   2019   2020\n",
              "규모구분                                                      \n",
              "전용면적 102㎡초과       9,837 10,389 11,334 11,446 13,332 13,850\n",
              "전용면적 60㎡이하        8,952  9,399 10,246 10,844 11,507 11,967\n",
              "전용면적 60㎡초과 85㎡이하  8,892  9,296  9,825 10,651 11,677 11,857\n",
              "전용면적 85㎡초과 102㎡이하 9,519 10,122 10,540 11,442 12,981 14,975\n",
              "전체                8,893  9,293  9,901 10,676 11,603 11,879"
            ]
          },
          "metadata": {
            "tags": []
          },
          "execution_count": 24
        }
      ]
    },
    {
      "cell_type": "code",
      "metadata": {
        "id": "lAlJeZaRCPaI",
        "colab_type": "code",
        "colab": {}
      },
      "source": [
        "region_year_all = df.loc[df['규모구분'] == '전체'] \n",
        "region_year = region_year_all.pivot_table('평당분양가격', '지역명', '연도').reset_index()"
      ],
      "execution_count": null,
      "outputs": []
    },
    {
      "cell_type": "code",
      "metadata": {
        "id": "cj7EwSUrCWCH",
        "colab_type": "code",
        "colab": {
          "base_uri": "https://localhost:8080/",
          "height": 630
        },
        "outputId": "c10acb85-8590-4531-854e-7c5544b457f7"
      },
      "source": [
        "region_year['변동액'] = (region_year['2019'] - region_year['2015']).astype(int) \n",
        "max_delta_price = np.max(region_year['변동액'])*1000 \n",
        "min_delta_price = np.min(region_year['변동액'])*1000 \n",
        "mean_delta_price = np.mean(region_year['변동액'])*1000 \n",
        "print('2015년부터 2019년까지 분양가는 계속 상승했으며, 상승액이 가장 큰 지역은 제주이며 상승액은 평당 {:,.0f}원이다.'.format(max_delta_price)) \n",
        "print('상승액이 가장 작은 지역은 울산이며 평당 {:,.0f}원이다.'.format(min_delta_price)) \n",
        "print('전국 평균 변동액은 평당 {:,.0f}원이다.'.format(mean_delta_price))\n",
        "region_year"
      ],
      "execution_count": null,
      "outputs": [
        {
          "output_type": "stream",
          "text": [
            "2015년부터 2019년까지 분양가는 계속 상승했으며, 상승액이 가장 큰 지역은 제주이며 상승액은 평당 6,405,000원이다.\n",
            "상승액이 가장 작은 지역은 울산이며 평당 -30,000원이다.\n",
            "전국 평균 변동액은 평당 2,647,235원이다.\n"
          ],
          "name": "stdout"
        },
        {
          "output_type": "execute_result",
          "data": {
            "text/html": [
              "<div>\n",
              "<style scoped>\n",
              "    .dataframe tbody tr th:only-of-type {\n",
              "        vertical-align: middle;\n",
              "    }\n",
              "\n",
              "    .dataframe tbody tr th {\n",
              "        vertical-align: top;\n",
              "    }\n",
              "\n",
              "    .dataframe thead th {\n",
              "        text-align: right;\n",
              "    }\n",
              "</style>\n",
              "<table border=\"1\" class=\"dataframe\">\n",
              "  <thead>\n",
              "    <tr style=\"text-align: right;\">\n",
              "      <th>연도</th>\n",
              "      <th>지역명</th>\n",
              "      <th>2015</th>\n",
              "      <th>2016</th>\n",
              "      <th>2017</th>\n",
              "      <th>2018</th>\n",
              "      <th>2019</th>\n",
              "      <th>2020</th>\n",
              "      <th>변동액</th>\n",
              "    </tr>\n",
              "  </thead>\n",
              "  <tbody>\n",
              "    <tr>\n",
              "      <th>0</th>\n",
              "      <td>강원</td>\n",
              "      <td>7,160</td>\n",
              "      <td>7,011</td>\n",
              "      <td>7,127</td>\n",
              "      <td>7,681</td>\n",
              "      <td>8,142</td>\n",
              "      <td>8,226</td>\n",
              "      <td>981</td>\n",
              "    </tr>\n",
              "    <tr>\n",
              "      <th>1</th>\n",
              "      <td>경기</td>\n",
              "      <td>10,377</td>\n",
              "      <td>11,220</td>\n",
              "      <td>11,850</td>\n",
              "      <td>13,186</td>\n",
              "      <td>14,469</td>\n",
              "      <td>14,829</td>\n",
              "      <td>4091</td>\n",
              "    </tr>\n",
              "    <tr>\n",
              "      <th>2</th>\n",
              "      <td>경남</td>\n",
              "      <td>7,586</td>\n",
              "      <td>7,848</td>\n",
              "      <td>8,120</td>\n",
              "      <td>9,019</td>\n",
              "      <td>9,871</td>\n",
              "      <td>10,003</td>\n",
              "      <td>2285</td>\n",
              "    </tr>\n",
              "    <tr>\n",
              "      <th>3</th>\n",
              "      <td>경북</td>\n",
              "      <td>7,171</td>\n",
              "      <td>7,361</td>\n",
              "      <td>7,795</td>\n",
              "      <td>8,505</td>\n",
              "      <td>8,857</td>\n",
              "      <td>9,002</td>\n",
              "      <td>1685</td>\n",
              "    </tr>\n",
              "    <tr>\n",
              "      <th>4</th>\n",
              "      <td>광주</td>\n",
              "      <td>8,052</td>\n",
              "      <td>8,899</td>\n",
              "      <td>9,464</td>\n",
              "      <td>9,856</td>\n",
              "      <td>11,823</td>\n",
              "      <td>12,682</td>\n",
              "      <td>3770</td>\n",
              "    </tr>\n",
              "    <tr>\n",
              "      <th>5</th>\n",
              "      <td>대구</td>\n",
              "      <td>9,232</td>\n",
              "      <td>10,310</td>\n",
              "      <td>11,456</td>\n",
              "      <td>12,076</td>\n",
              "      <td>13,852</td>\n",
              "      <td>14,672</td>\n",
              "      <td>4619</td>\n",
              "    </tr>\n",
              "    <tr>\n",
              "      <th>6</th>\n",
              "      <td>대전</td>\n",
              "      <td>8,098</td>\n",
              "      <td>8,502</td>\n",
              "      <td>9,045</td>\n",
              "      <td>10,180</td>\n",
              "      <td>11,778</td>\n",
              "      <td>11,733</td>\n",
              "      <td>3679</td>\n",
              "    </tr>\n",
              "    <tr>\n",
              "      <th>7</th>\n",
              "      <td>부산</td>\n",
              "      <td>10,307</td>\n",
              "      <td>10,430</td>\n",
              "      <td>11,578</td>\n",
              "      <td>12,998</td>\n",
              "      <td>13,116</td>\n",
              "      <td>12,934</td>\n",
              "      <td>2809</td>\n",
              "    </tr>\n",
              "    <tr>\n",
              "      <th>8</th>\n",
              "      <td>서울</td>\n",
              "      <td>19,725</td>\n",
              "      <td>20,663</td>\n",
              "      <td>21,376</td>\n",
              "      <td>22,889</td>\n",
              "      <td>26,131</td>\n",
              "      <td>26,534</td>\n",
              "      <td>6405</td>\n",
              "    </tr>\n",
              "    <tr>\n",
              "      <th>9</th>\n",
              "      <td>세종</td>\n",
              "      <td>8,750</td>\n",
              "      <td>8,860</td>\n",
              "      <td>9,135</td>\n",
              "      <td>10,355</td>\n",
              "      <td>11,079</td>\n",
              "      <td>11,411</td>\n",
              "      <td>2328</td>\n",
              "    </tr>\n",
              "    <tr>\n",
              "      <th>10</th>\n",
              "      <td>울산</td>\n",
              "      <td>10,053</td>\n",
              "      <td>10,209</td>\n",
              "      <td>11,345</td>\n",
              "      <td>10,241</td>\n",
              "      <td>10,022</td>\n",
              "      <td>10,372</td>\n",
              "      <td>-30</td>\n",
              "    </tr>\n",
              "    <tr>\n",
              "      <th>11</th>\n",
              "      <td>인천</td>\n",
              "      <td>10,484</td>\n",
              "      <td>10,532</td>\n",
              "      <td>10,737</td>\n",
              "      <td>11,274</td>\n",
              "      <td>12,635</td>\n",
              "      <td>13,584</td>\n",
              "      <td>2150</td>\n",
              "    </tr>\n",
              "    <tr>\n",
              "      <th>12</th>\n",
              "      <td>전남</td>\n",
              "      <td>6,317</td>\n",
              "      <td>6,489</td>\n",
              "      <td>7,188</td>\n",
              "      <td>7,789</td>\n",
              "      <td>7,902</td>\n",
              "      <td>8,324</td>\n",
              "      <td>1585</td>\n",
              "    </tr>\n",
              "    <tr>\n",
              "      <th>13</th>\n",
              "      <td>전북</td>\n",
              "      <td>6,703</td>\n",
              "      <td>6,418</td>\n",
              "      <td>7,058</td>\n",
              "      <td>7,626</td>\n",
              "      <td>8,197</td>\n",
              "      <td>8,144</td>\n",
              "      <td>1493</td>\n",
              "    </tr>\n",
              "    <tr>\n",
              "      <th>14</th>\n",
              "      <td>제주</td>\n",
              "      <td>7,405</td>\n",
              "      <td>9,129</td>\n",
              "      <td>10,831</td>\n",
              "      <td>11,891</td>\n",
              "      <td>12,138</td>\n",
              "      <td>13,052</td>\n",
              "      <td>4732</td>\n",
              "    </tr>\n",
              "    <tr>\n",
              "      <th>15</th>\n",
              "      <td>충남</td>\n",
              "      <td>7,115</td>\n",
              "      <td>7,331</td>\n",
              "      <td>7,456</td>\n",
              "      <td>8,013</td>\n",
              "      <td>8,607</td>\n",
              "      <td>8,637</td>\n",
              "      <td>1492</td>\n",
              "    </tr>\n",
              "    <tr>\n",
              "      <th>16</th>\n",
              "      <td>충북</td>\n",
              "      <td>6,645</td>\n",
              "      <td>6,770</td>\n",
              "      <td>6,763</td>\n",
              "      <td>7,874</td>\n",
              "      <td>7,575</td>\n",
              "      <td>7,810</td>\n",
              "      <td>929</td>\n",
              "    </tr>\n",
              "  </tbody>\n",
              "</table>\n",
              "</div>"
            ],
            "text/plain": [
              "연도 지역명   2015   2016   2017   2018   2019   2020   변동액\n",
              "0   강원  7,160  7,011  7,127  7,681  8,142  8,226   981\n",
              "1   경기 10,377 11,220 11,850 13,186 14,469 14,829  4091\n",
              "2   경남  7,586  7,848  8,120  9,019  9,871 10,003  2285\n",
              "3   경북  7,171  7,361  7,795  8,505  8,857  9,002  1685\n",
              "4   광주  8,052  8,899  9,464  9,856 11,823 12,682  3770\n",
              "5   대구  9,232 10,310 11,456 12,076 13,852 14,672  4619\n",
              "6   대전  8,098  8,502  9,045 10,180 11,778 11,733  3679\n",
              "7   부산 10,307 10,430 11,578 12,998 13,116 12,934  2809\n",
              "8   서울 19,725 20,663 21,376 22,889 26,131 26,534  6405\n",
              "9   세종  8,750  8,860  9,135 10,355 11,079 11,411  2328\n",
              "10  울산 10,053 10,209 11,345 10,241 10,022 10,372   -30\n",
              "11  인천 10,484 10,532 10,737 11,274 12,635 13,584  2150\n",
              "12  전남  6,317  6,489  7,188  7,789  7,902  8,324  1585\n",
              "13  전북  6,703  6,418  7,058  7,626  8,197  8,144  1493\n",
              "14  제주  7,405  9,129 10,831 11,891 12,138 13,052  4732\n",
              "15  충남  7,115  7,331  7,456  8,013  8,607  8,637  1492\n",
              "16  충북  6,645  6,770  6,763  7,874  7,575  7,810   929"
            ]
          },
          "metadata": {
            "tags": []
          },
          "execution_count": 28
        }
      ]
    }
  ]
}